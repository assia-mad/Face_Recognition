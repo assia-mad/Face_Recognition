{
  "nbformat": 4,
  "nbformat_minor": 0,
  "metadata": {
    "colab": {
      "provenance": []
    },
    "kernelspec": {
      "name": "python3",
      "display_name": "Python 3"
    },
    "language_info": {
      "name": "python"
    }
  },
  "cells": [
    {
      "cell_type": "code",
      "execution_count": null,
      "metadata": {
        "colab": {
          "base_uri": "https://localhost:8080/"
        },
        "id": "mHPmtgFYIp1-",
        "outputId": "91ab7ec8-0d0e-4221-cd7f-f69954036453"
      },
      "outputs": [
        {
          "output_type": "stream",
          "name": "stdout",
          "text": [
            "Mounted at /content/drive\n"
          ]
        }
      ],
      "source": [
        "from google.colab import drive\n",
        "drive.mount('/content/drive')\n"
      ]
    },
    {
      "cell_type": "code",
      "source": [
        "import cv2\n",
        "import os\n",
        "import glob\n",
        "import matplotlib.pyplot as plt"
      ],
      "metadata": {
        "id": "v3OL23c0I5sz"
      },
      "execution_count": null,
      "outputs": []
    },
    {
      "cell_type": "code",
      "source": [
        "import numpy as np\n",
        "import tensorflow as tf\n",
        "import tensorflow.keras.backend as K\n",
        "\n",
        "from tensorflow import keras\n",
        "from tensorflow.keras.models import Sequential,Model\n",
        "from tensorflow.keras.layers import ZeroPadding2D,Convolution2D,MaxPooling2D\n",
        "from tensorflow.keras.layers import Dense,Dropout,Softmax,Flatten,Activation,BatchNormalization\n",
        "from tensorflow.keras.preprocessing.image import load_img,img_to_array\n",
        "from tensorflow.keras.applications.imagenet_utils import preprocess_input"
      ],
      "metadata": {
        "id": "EeGEPmKKJJTh"
      },
      "execution_count": null,
      "outputs": []
    },
    {
      "cell_type": "code",
      "source": [
        "img=load_img(path+'/Test_Images_crop/Assia/Assia_Madani-happy-1.jpg',target_size=(224,224))\n",
        "print(img)"
      ],
      "metadata": {
        "colab": {
          "base_uri": "https://localhost:8080/"
        },
        "id": "MOFeoYQbTM0v",
        "outputId": "97e96c8f-4b4f-4e3b-80d6-eae681bd313c"
      },
      "execution_count": null,
      "outputs": [
        {
          "output_type": "stream",
          "name": "stdout",
          "text": [
            "<PIL.Image.Image image mode=RGB size=224x224 at 0x7FB3ADD6E4A0>\n"
          ]
        }
      ]
    },
    {
      "cell_type": "code",
      "source": [],
      "metadata": {
        "id": "fxjWw6PhTv6i"
      },
      "execution_count": null,
      "outputs": []
    },
    {
      "cell_type": "code",
      "source": [
        "face_cascade = cv2.CascadeClassifier('/content/drive/My Drive/Project/haarcascade_frontalface_default.xml')\n",
        "\n",
        "if face_cascade.empty():\n",
        "    raise IOError('Unable to load the face cascade classifier xml file')"
      ],
      "metadata": {
        "id": "uWtQ0vpnJMF5"
      },
      "execution_count": null,
      "outputs": []
    },
    {
      "cell_type": "code",
      "source": [
        "path = '/content/drive/MyDrive/Project/lfw_/Dataset'"
      ],
      "metadata": {
        "id": "xnJR6Pm6J3M-"
      },
      "execution_count": null,
      "outputs": []
    },
    {
      "cell_type": "code",
      "source": [
        "image_path_names=[]\n",
        "person_names=set()\n",
        "\n",
        "for file_name in glob.glob(path+'/Images_train/*/*.jpg'):\n",
        "  # Get images path stored in folder\n",
        "  image_path_names.append(file_name)\n",
        "  # Get persons names\n",
        "  person_names.add(image_path_names[-1].split('/')[-1].split('_')[0])"
      ],
      "metadata": {
        "id": "VD9UBWgGJ6CO"
      },
      "execution_count": null,
      "outputs": []
    },
    {
      "cell_type": "code",
      "source": [
        "for file_name in image_path_names:\n",
        "\n",
        "    img = cv2.imread(file_name)\n",
        "    gray = cv2.cvtColor(img, cv2.COLOR_BGR2GRAY)\n",
        "    rects = face_cascade.detectMultiScale(gray, scaleFactor=1.1, minNeighbors=5, minSize=(30, 30))\n",
        "\n",
        "    left, top, right, bottom = 0, 0, 0, 0\n",
        "\n",
        "    if len(rects) != 1:\n",
        "          continue\n",
        "\n",
        "    left, top, right, bottom = rects[0]\n",
        "\n",
        "    img_crop = img[top:top + bottom, left:left + right]\n",
        "    img_path = path + '/Images_crop/' + file_name.split('/')[-1].split('_')[0] + '/' + file_name.split('/')[-1]\n",
        "\n",
        "    try:\n",
        "        os.makedirs(os.path.dirname(img_path), exist_ok=True)  # Create the necessary directories\n",
        "        cv2.imwrite(img_path, img_crop)\n",
        "        print(f\"Image saved: {img_path}\")\n",
        "\n",
        "    except Exception as e:\n",
        "        print(f\"Failed to save image: {img_path}\")\n",
        "        print(f\"Error: {str(e)}\")"
      ],
      "metadata": {
        "colab": {
          "base_uri": "https://localhost:8080/"
        },
        "id": "rMrMaFEEKuyd",
        "outputId": "7fe61bce-604f-4d7f-9555-aec4400509db"
      },
      "execution_count": null,
      "outputs": [
        {
          "output_type": "stream",
          "name": "stdout",
          "text": [
            "Image saved: /content/drive/MyDrive/Project/lfw_/Dataset/Images_crop/Assia/Assia_Madani-happy-4.jpg\n",
            "Image saved: /content/drive/MyDrive/Project/lfw_/Dataset/Images_crop/Assia/Assia_Madani-happy-5.jpg\n",
            "Image saved: /content/drive/MyDrive/Project/lfw_/Dataset/Images_crop/Assia/Assia_Madani-happy-6.jpg\n",
            "Image saved: /content/drive/MyDrive/Project/lfw_/Dataset/Images_crop/Assia/Assia_Madani-happy-7.jpg\n",
            "Image saved: /content/drive/MyDrive/Project/lfw_/Dataset/Images_crop/Assia/Assia_Madani-happy-8.jpg\n",
            "Image saved: /content/drive/MyDrive/Project/lfw_/Dataset/Images_crop/Assia/Assia_Madani-angry-2.jpg\n",
            "Image saved: /content/drive/MyDrive/Project/lfw_/Dataset/Images_crop/Assia/Assia_Madani-angry-3.jpg\n",
            "Image saved: /content/drive/MyDrive/Project/lfw_/Dataset/Images_crop/Assia/Assia_Madani-neutral-1.jpg\n",
            "Image saved: /content/drive/MyDrive/Project/lfw_/Dataset/Images_crop/Yahia/Yahia_boukharouba-angry-1.jpg\n",
            "Image saved: /content/drive/MyDrive/Project/lfw_/Dataset/Images_crop/Yahia/Yahia_boukharouba-angry-2.jpg\n",
            "Image saved: /content/drive/MyDrive/Project/lfw_/Dataset/Images_crop/Yahia/Yahia_boukharouba-angry-3.jpg\n",
            "Image saved: /content/drive/MyDrive/Project/lfw_/Dataset/Images_crop/Yahia/Yahia_boukharouba-happy-1.jpg\n",
            "Image saved: /content/drive/MyDrive/Project/lfw_/Dataset/Images_crop/Yahia/Yahia_boukharouba-happy-2.jpg\n",
            "Image saved: /content/drive/MyDrive/Project/lfw_/Dataset/Images_crop/Yahia/Yahia_boukharouba-happy-3.jpg\n",
            "Image saved: /content/drive/MyDrive/Project/lfw_/Dataset/Images_crop/Yahia/Yahia_boukharouba-neutral-1.jpg\n",
            "Image saved: /content/drive/MyDrive/Project/lfw_/Dataset/Images_crop/Yahia/Yahia_boukharouba-sad-1.jpg\n",
            "Image saved: /content/drive/MyDrive/Project/lfw_/Dataset/Images_crop/Yahia/Yahia_boukharouba-sad-2.jpg\n",
            "Image saved: /content/drive/MyDrive/Project/lfw_/Dataset/Images_crop/Yahia/Yahia_boukharouba-sad-3.jpg\n",
            "Image saved: /content/drive/MyDrive/Project/lfw_/Dataset/Images_crop/Yahia/Yahia_boukharouba-tired-1.jpg\n",
            "Image saved: /content/drive/MyDrive/Project/lfw_/Dataset/Images_crop/Yahia/Yahia_boukharouba-tired-3.jpg\n",
            "Image saved: /content/drive/MyDrive/Project/lfw_/Dataset/Images_crop/Yahia/Yahia_boukharouba-tired-4.jpg\n",
            "Image saved: /content/drive/MyDrive/Project/lfw_/Dataset/Images_crop/Yahia/Yahia_boukharouba-tired-5.jpg\n",
            "Image saved: /content/drive/MyDrive/Project/lfw_/Dataset/Images_crop/Amine/Amine_lasheb-neutral-3.jpg\n",
            "Image saved: /content/drive/MyDrive/Project/lfw_/Dataset/Images_crop/Rabeh/Rabeh_Aouar-angry-1.jpg\n",
            "Image saved: /content/drive/MyDrive/Project/lfw_/Dataset/Images_crop/Rabeh/Rabeh_Aouar-angry-2.jpg\n",
            "Image saved: /content/drive/MyDrive/Project/lfw_/Dataset/Images_crop/Rabeh/Rabeh_Aouar-angry-3.jpg\n",
            "Image saved: /content/drive/MyDrive/Project/lfw_/Dataset/Images_crop/Rabeh/Rabeh_Aouar-happy-2.jpg\n",
            "Image saved: /content/drive/MyDrive/Project/lfw_/Dataset/Images_crop/Rabeh/Rabeh_Aouar-happy-3.jpg\n",
            "Image saved: /content/drive/MyDrive/Project/lfw_/Dataset/Images_crop/Rabeh/Rabeh_Aouar-left-1.jpg\n",
            "Image saved: /content/drive/MyDrive/Project/lfw_/Dataset/Images_crop/Rabeh/Rabeh_Aouar-neutral-1.jpg\n",
            "Image saved: /content/drive/MyDrive/Project/lfw_/Dataset/Images_crop/Rabeh/Rabeh_Aouar-neutral-2.jpg\n",
            "Image saved: /content/drive/MyDrive/Project/lfw_/Dataset/Images_crop/Rabeh/Rabeh_Aouar-neutral-3.jpg\n",
            "Image saved: /content/drive/MyDrive/Project/lfw_/Dataset/Images_crop/Rabeh/Rabeh_Aouar-sad-1.jpg\n",
            "Image saved: /content/drive/MyDrive/Project/lfw_/Dataset/Images_crop/Rabeh/Rabeh_Aouar-sad-2.jpg\n",
            "Image saved: /content/drive/MyDrive/Project/lfw_/Dataset/Images_crop/Rabeh/Rabeh_Aouar-sad-3.jpg\n",
            "Image saved: /content/drive/MyDrive/Project/lfw_/Dataset/Images_crop/Rabeh/Rabeh_Aouar-tired-1.jpg\n",
            "Image saved: /content/drive/MyDrive/Project/lfw_/Dataset/Images_crop/Rabeh/Rabeh_Aouar-tired-2.jpg\n",
            "Image saved: /content/drive/MyDrive/Project/lfw_/Dataset/Images_crop/Rabeh/Rabeh_Aouar-tired-3.jpg\n",
            "Image saved: /content/drive/MyDrive/Project/lfw_/Dataset/Images_crop/Ilyas/Ilyas_Alili-angry-1.jpg\n",
            "Image saved: /content/drive/MyDrive/Project/lfw_/Dataset/Images_crop/Ilyas/Ilyas_Alili-angry-2.jpg\n",
            "Image saved: /content/drive/MyDrive/Project/lfw_/Dataset/Images_crop/Ilyas/Ilyas_Alili-happy-2.jpg\n",
            "Image saved: /content/drive/MyDrive/Project/lfw_/Dataset/Images_crop/Ilyas/Ilyas_Alili-happy-3.jpg\n",
            "Image saved: /content/drive/MyDrive/Project/lfw_/Dataset/Images_crop/Ilyas/Ilyas_Alili-neutral-1.jpg\n",
            "Image saved: /content/drive/MyDrive/Project/lfw_/Dataset/Images_crop/Ilyas/Ilyas_Alili-neutral-2.jpg\n",
            "Image saved: /content/drive/MyDrive/Project/lfw_/Dataset/Images_crop/Ilyas/Ilyas_Alili-right-1.jpg\n",
            "Image saved: /content/drive/MyDrive/Project/lfw_/Dataset/Images_crop/Ilyas/Ilyas_Alili-sad-1.jpg\n",
            "Image saved: /content/drive/MyDrive/Project/lfw_/Dataset/Images_crop/Ilyas/Ilyas_Alili-sad-2.jpg\n",
            "Image saved: /content/drive/MyDrive/Project/lfw_/Dataset/Images_crop/Ilyas/Ilyas_Alili-tired-1.jpg\n",
            "Image saved: /content/drive/MyDrive/Project/lfw_/Dataset/Images_crop/Ilyas/Ilyas_Alili-tired-2.jpg\n",
            "Image saved: /content/drive/MyDrive/Project/lfw_/Dataset/Images_crop/abdelmalek/abdelmalek_bounoua-angry-1.jpg\n",
            "Image saved: /content/drive/MyDrive/Project/lfw_/Dataset/Images_crop/abdelmalek/abdelmalek_bounoua-angry-2.jpg\n",
            "Image saved: /content/drive/MyDrive/Project/lfw_/Dataset/Images_crop/abdelmalek/abdelmalek_bounoua-angry-3.jpg\n",
            "Image saved: /content/drive/MyDrive/Project/lfw_/Dataset/Images_crop/abdelmalek/abdelmalek_bounoua-happy-1.jpg\n",
            "Image saved: /content/drive/MyDrive/Project/lfw_/Dataset/Images_crop/abdelmalek/abdelmalek_bounoua-happy-2.jpg\n",
            "Image saved: /content/drive/MyDrive/Project/lfw_/Dataset/Images_crop/abdelmalek/abdelmalek_bounoua-happy-3.jpg\n",
            "Image saved: /content/drive/MyDrive/Project/lfw_/Dataset/Images_crop/abdelmalek/abdelmalek_bounoua-left-3.jpg\n",
            "Image saved: /content/drive/MyDrive/Project/lfw_/Dataset/Images_crop/abdelmalek/abdelmalek_bounoua-neutral-2.jpg\n",
            "Image saved: /content/drive/MyDrive/Project/lfw_/Dataset/Images_crop/abdelmalek/abdelmalek_bounoua-neutral-3.jpg\n",
            "Image saved: /content/drive/MyDrive/Project/lfw_/Dataset/Images_crop/abdelmalek/abdelmalek_bounoua-sad-1.jpg\n",
            "Image saved: /content/drive/MyDrive/Project/lfw_/Dataset/Images_crop/abdelmalek/abdelmalek_bounoua-sad-2.jpg\n",
            "Image saved: /content/drive/MyDrive/Project/lfw_/Dataset/Images_crop/abdelmalek/abdelmalek_bounoua-sad-3.jpg\n",
            "Image saved: /content/drive/MyDrive/Project/lfw_/Dataset/Images_crop/abdelmalek/abdelmalek_bounoua-tired-1.jpg\n",
            "Image saved: /content/drive/MyDrive/Project/lfw_/Dataset/Images_crop/abdelmalek/abdelmalek_bounoua-tired-4.jpg\n",
            "Image saved: /content/drive/MyDrive/Project/lfw_/Dataset/Images_crop/abdelmalek/abdelmalek_bounoua-tired-2.jpg\n",
            "Image saved: /content/drive/MyDrive/Project/lfw_/Dataset/Images_crop/abdelmalek/abdelmalek_bounoua-tired-5.jpg\n",
            "Image saved: /content/drive/MyDrive/Project/lfw_/Dataset/Images_crop/abdelmalek/abdelmalek_bounoua-tired-3.jpg\n",
            "Image saved: /content/drive/MyDrive/Project/lfw_/Dataset/Images_crop/Ayoub/Ayoub_frihaoui-angry-1.jpg\n",
            "Image saved: /content/drive/MyDrive/Project/lfw_/Dataset/Images_crop/Ayoub/Ayoub_frihaoui-angry-2.jpg\n",
            "Image saved: /content/drive/MyDrive/Project/lfw_/Dataset/Images_crop/Ayoub/Ayoub_frihaoui-left-1.jpg\n",
            "Image saved: /content/drive/MyDrive/Project/lfw_/Dataset/Images_crop/Ayoub/Ayoub_frihaoui-sad-1 (1).jpg\n",
            "Image saved: /content/drive/MyDrive/Project/lfw_/Dataset/Images_crop/Ayoub/Ayoub_frihaoui-tired-1.jpg\n",
            "Image saved: /content/drive/MyDrive/Project/lfw_/Dataset/Images_crop/Ayoub/Ayoub_frihaoui-tired-2.jpg\n",
            "Image saved: /content/drive/MyDrive/Project/lfw_/Dataset/Images_crop/Ayoub/Ayoub_frihaoui-sad-1.jpg\n",
            "Image saved: /content/drive/MyDrive/Project/lfw_/Dataset/Images_crop/Walid/Walid_abdellaoui-back-1.jpg\n",
            "Image saved: /content/drive/MyDrive/Project/lfw_/Dataset/Images_crop/Karim/Karim_cherrab-angry-1.jpg\n",
            "Image saved: /content/drive/MyDrive/Project/lfw_/Dataset/Images_crop/Karim/Karim_cherrab-happy-1.jpg\n",
            "Image saved: /content/drive/MyDrive/Project/lfw_/Dataset/Images_crop/Karim/Karim_cherrab-happy-2.jpg\n",
            "Image saved: /content/drive/MyDrive/Project/lfw_/Dataset/Images_crop/Karim/Karim_cherrab-neutral-1.jpg\n",
            "Image saved: /content/drive/MyDrive/Project/lfw_/Dataset/Images_crop/Karim/Karim_cherrab-neutral-2.jpg\n",
            "Image saved: /content/drive/MyDrive/Project/lfw_/Dataset/Images_crop/Karim/Karim_cherrab-neutral-3.jpg\n",
            "Image saved: /content/drive/MyDrive/Project/lfw_/Dataset/Images_crop/Karim/Karim_cherrab-sad-2.jpg\n",
            "Image saved: /content/drive/MyDrive/Project/lfw_/Dataset/Images_crop/Karim/Karim_cherrab-sad-3.jpg\n",
            "Image saved: /content/drive/MyDrive/Project/lfw_/Dataset/Images_crop/Karim/Karim_cherrab-tired-1.jpg\n",
            "Image saved: /content/drive/MyDrive/Project/lfw_/Dataset/Images_crop/Karim/Karim_cherrab-tired-2.jpg\n",
            "Image saved: /content/drive/MyDrive/Project/lfw_/Dataset/Images_crop/Abdelali/Abdelali_Ichou-neutral-2.jpg\n",
            "Image saved: /content/drive/MyDrive/Project/lfw_/Dataset/Images_crop/Abdelali/Abdelali_Ichou-neutral-3.jpg\n",
            "Image saved: /content/drive/MyDrive/Project/lfw_/Dataset/Images_crop/Abdelali/Abdelali_Ichou-neutral-4.jpg\n",
            "Image saved: /content/drive/MyDrive/Project/lfw_/Dataset/Images_crop/Abdelali/Abdelali_Ichou-happy-1.jpg\n",
            "Image saved: /content/drive/MyDrive/Project/lfw_/Dataset/Images_crop/Abdelali/Abdelali_Ichou-happy-2.jpg\n",
            "Image saved: /content/drive/MyDrive/Project/lfw_/Dataset/Images_crop/Abdelali/Abdelali_Ichou-happy-3.jpg\n",
            "Image saved: /content/drive/MyDrive/Project/lfw_/Dataset/Images_crop/Abdelali/Abdelali_Ichou-happy-4.jpg\n",
            "Image saved: /content/drive/MyDrive/Project/lfw_/Dataset/Images_crop/Abdelali/Abdelali_Ichou-angry-1.jpg\n",
            "Image saved: /content/drive/MyDrive/Project/lfw_/Dataset/Images_crop/Abdelali/Abdelali_Ichou-angry-2.jpg\n",
            "Image saved: /content/drive/MyDrive/Project/lfw_/Dataset/Images_crop/Abdelali/Abdelali_Ichou-angry-3.jpg\n",
            "Image saved: /content/drive/MyDrive/Project/lfw_/Dataset/Images_crop/Abdelali/Abdelali_Ichou-angry-4.jpg\n",
            "Image saved: /content/drive/MyDrive/Project/lfw_/Dataset/Images_crop/Abdelali/Abdelali_Ichou-sad-1.jpg\n",
            "Image saved: /content/drive/MyDrive/Project/lfw_/Dataset/Images_crop/Abdelali/Abdelali_Ichou-sad-2.jpg\n",
            "Image saved: /content/drive/MyDrive/Project/lfw_/Dataset/Images_crop/Abdelali/Abdelali_Ichou-sad-3.jpg\n",
            "Image saved: /content/drive/MyDrive/Project/lfw_/Dataset/Images_crop/Abdelali/Abdelali_Ichou-sad-4.jpg\n",
            "Image saved: /content/drive/MyDrive/Project/lfw_/Dataset/Images_crop/Abdelali/Abdelali_Ichou-tired-1.jpg\n",
            "Image saved: /content/drive/MyDrive/Project/lfw_/Dataset/Images_crop/Abdelali/Abdelali_Ichou-tired-2.jpg\n",
            "Image saved: /content/drive/MyDrive/Project/lfw_/Dataset/Images_crop/Abdelali/Abdelali_Ichou-tired-3.jpg\n",
            "Image saved: /content/drive/MyDrive/Project/lfw_/Dataset/Images_crop/Abdelali/Abdelali_Ichou-tired-4.jpg\n",
            "Image saved: /content/drive/MyDrive/Project/lfw_/Dataset/Images_crop/Ahmed/Ahmed_Djellouli-neutral-2.jpg\n",
            "Image saved: /content/drive/MyDrive/Project/lfw_/Dataset/Images_crop/Ahmed/Ahmed_Djellouli-neutral-3.jpg\n",
            "Image saved: /content/drive/MyDrive/Project/lfw_/Dataset/Images_crop/Ahmed/Ahmed_Djellouli-happy-1.jpg\n",
            "Image saved: /content/drive/MyDrive/Project/lfw_/Dataset/Images_crop/Ahmed/Ahmed_Djellouli-happy-2.jpg\n",
            "Image saved: /content/drive/MyDrive/Project/lfw_/Dataset/Images_crop/Ahmed/Ahmed_Djellouli-happy-3.jpg\n",
            "Image saved: /content/drive/MyDrive/Project/lfw_/Dataset/Images_crop/Ahmed/Ahmed_Djellouli-happy-4.jpg\n",
            "Image saved: /content/drive/MyDrive/Project/lfw_/Dataset/Images_crop/Ahmed/Ahmed_Djellouli-angry-1.jpg\n",
            "Image saved: /content/drive/MyDrive/Project/lfw_/Dataset/Images_crop/Ahmed/Ahmed_Djellouli-angry-2.jpg\n",
            "Image saved: /content/drive/MyDrive/Project/lfw_/Dataset/Images_crop/Ahmed/Ahmed_Djellouli-angry-3.jpg\n",
            "Image saved: /content/drive/MyDrive/Project/lfw_/Dataset/Images_crop/Ahmed/Ahmed_Djellouli-angry-4.jpg\n",
            "Image saved: /content/drive/MyDrive/Project/lfw_/Dataset/Images_crop/Ahmed/Ahmed_Djellouli-angry-5.jpg\n",
            "Image saved: /content/drive/MyDrive/Project/lfw_/Dataset/Images_crop/Ahmed/Ahmed_Djellouli-sad-1.jpg\n",
            "Image saved: /content/drive/MyDrive/Project/lfw_/Dataset/Images_crop/Ahmed/Ahmed_Djellouli-sad-2.jpg\n",
            "Image saved: /content/drive/MyDrive/Project/lfw_/Dataset/Images_crop/Ahmed/Ahmed_Djellouli-sad-3.jpg\n",
            "Image saved: /content/drive/MyDrive/Project/lfw_/Dataset/Images_crop/Ahmed/Ahmed_Djellouli-tired-1.jpg\n",
            "Image saved: /content/drive/MyDrive/Project/lfw_/Dataset/Images_crop/Ahmed/Ahmed_Djellouli-tired-2.jpg\n",
            "Image saved: /content/drive/MyDrive/Project/lfw_/Dataset/Images_crop/Ahmed/Ahmed_Djellouli-tired-3.jpg\n",
            "Image saved: /content/drive/MyDrive/Project/lfw_/Dataset/Images_crop/Yacine/Yacine_Khattara-neutral-2.jpg\n",
            "Image saved: /content/drive/MyDrive/Project/lfw_/Dataset/Images_crop/Yacine/Yacine_Khattara-neutral-3.jpg\n",
            "Image saved: /content/drive/MyDrive/Project/lfw_/Dataset/Images_crop/Yacine/Yacine_Khattara-happy-1.jpg\n",
            "Image saved: /content/drive/MyDrive/Project/lfw_/Dataset/Images_crop/Yacine/Yacine_Khattara-happy-2.jpg\n",
            "Image saved: /content/drive/MyDrive/Project/lfw_/Dataset/Images_crop/Yacine/Yacine_Khattara-sad-1.jpg\n",
            "Image saved: /content/drive/MyDrive/Project/lfw_/Dataset/Images_crop/Yacine/Yacine_Khattara-sad-2.jpg\n",
            "Image saved: /content/drive/MyDrive/Project/lfw_/Dataset/Images_crop/Yacine/Yacine_Khattara-neutral-4.jpg\n",
            "Image saved: /content/drive/MyDrive/Project/lfw_/Dataset/Images_crop/Yacine/Yacine_Khattara-angry-1.jpg\n",
            "Image saved: /content/drive/MyDrive/Project/lfw_/Dataset/Images_crop/Yacine/Yacine_Khattara-angry-2.jpg\n",
            "Image saved: /content/drive/MyDrive/Project/lfw_/Dataset/Images_crop/Yacine/Yacine_Khattara-angry-3.jpg\n",
            "Image saved: /content/drive/MyDrive/Project/lfw_/Dataset/Images_crop/Yacine/Yacine_Khattara-tired-1.jpg\n",
            "Image saved: /content/drive/MyDrive/Project/lfw_/Dataset/Images_crop/Yacine/Yacine_Khattara-tired-2.jpg\n",
            "Image saved: /content/drive/MyDrive/Project/lfw_/Dataset/Images_crop/Yacine/Yacine_Khattara-tired-3.jpg\n",
            "Image saved: /content/drive/MyDrive/Project/lfw_/Dataset/Images_crop/Houssem/Houssem_Saidoune-neutral-3.jpg\n",
            "Image saved: /content/drive/MyDrive/Project/lfw_/Dataset/Images_crop/Houssem/Houssem_Saidoune-neutral-4.jpg\n",
            "Image saved: /content/drive/MyDrive/Project/lfw_/Dataset/Images_crop/Houssem/Houssem_Saidoune-happy-3.jpg\n",
            "Image saved: /content/drive/MyDrive/Project/lfw_/Dataset/Images_crop/Houssem/Houssem_Saidoune-happy-4.jpg\n",
            "Image saved: /content/drive/MyDrive/Project/lfw_/Dataset/Images_crop/Houssem/Houssem_Saidoune-angry-1.jpg\n",
            "Image saved: /content/drive/MyDrive/Project/lfw_/Dataset/Images_crop/Houssem/Houssem_Saidoune-angry-2.jpg\n",
            "Image saved: /content/drive/MyDrive/Project/lfw_/Dataset/Images_crop/Houssem/Houssem_Saidoune-angry-3.jpg\n",
            "Image saved: /content/drive/MyDrive/Project/lfw_/Dataset/Images_crop/Houssem/Houssem_Saidoune-sad-1.jpg\n",
            "Image saved: /content/drive/MyDrive/Project/lfw_/Dataset/Images_crop/Houssem/Houssem_Saidoune-sad-4.jpg\n",
            "Image saved: /content/drive/MyDrive/Project/lfw_/Dataset/Images_crop/Houssem/Houssem_Saidoune-tired-1.jpg\n",
            "Image saved: /content/drive/MyDrive/Project/lfw_/Dataset/Images_crop/Abdlelkader /Abdlelkader _Mahboubi-neutral-1.jpg\n",
            "Image saved: /content/drive/MyDrive/Project/lfw_/Dataset/Images_crop/Abdlelkader /Abdlelkader _Mahboubi-neutral-2.jpg\n",
            "Image saved: /content/drive/MyDrive/Project/lfw_/Dataset/Images_crop/Abdlelkader /Abdlelkader _Mahboubi-neutral-3.jpg\n",
            "Image saved: /content/drive/MyDrive/Project/lfw_/Dataset/Images_crop/Abdlelkader /Abdlelkader _Mahboubi-happy-2.jpg\n",
            "Image saved: /content/drive/MyDrive/Project/lfw_/Dataset/Images_crop/Abdlelkader /Abdlelkader _Mahboubi-angry-1.jpg\n",
            "Image saved: /content/drive/MyDrive/Project/lfw_/Dataset/Images_crop/Abdlelkader /Abdlelkader _Mahboubi-angry-2.jpg\n",
            "Image saved: /content/drive/MyDrive/Project/lfw_/Dataset/Images_crop/Abdlelkader /Abdlelkader _Mahboubi-tired-2.jpg\n",
            "Image saved: /content/drive/MyDrive/Project/lfw_/Dataset/Images_crop/Sabrina/Sabrina_Belkhodja-sad-4.jpg\n",
            "Image saved: /content/drive/MyDrive/Project/lfw_/Dataset/Images_crop/Sabrina/Sabrina_Belkhodja-tired-5.jpg\n",
            "Image saved: /content/drive/MyDrive/Project/lfw_/Dataset/Images_crop/Sabrina/Sabrina_Belkhodja-tired-4.jpg\n",
            "Image saved: /content/drive/MyDrive/Project/lfw_/Dataset/Images_crop/Sabrina/Sabrina_Belkhodja-happy-6.jpg\n",
            "Image saved: /content/drive/MyDrive/Project/lfw_/Dataset/Images_crop/Sabrina/Sabrina_Belkhodja-angry-5.jpg\n",
            "Image saved: /content/drive/MyDrive/Project/lfw_/Dataset/Images_crop/Sabrina/Sabrina_Belkhodja-sad-1.jpg\n",
            "Image saved: /content/drive/MyDrive/Project/lfw_/Dataset/Images_crop/Sabrina/Sabrina_Belkhodja-happy-5.jpg\n",
            "Image saved: /content/drive/MyDrive/Project/lfw_/Dataset/Images_crop/Sabrina/Sabrina_Belkhodja-sad-2.jpg\n",
            "Image saved: /content/drive/MyDrive/Project/lfw_/Dataset/Images_crop/Sabrina/Sabrina_Belkhodja-sad-3.jpg\n",
            "Image saved: /content/drive/MyDrive/Project/lfw_/Dataset/Images_crop/Sabrina/Sabrina_Belkhodja-angry-6.jpg\n",
            "Image saved: /content/drive/MyDrive/Project/lfw_/Dataset/Images_crop/Celia/Celia_Lazili-angry-3.jpg\n",
            "Image saved: /content/drive/MyDrive/Project/lfw_/Dataset/Images_crop/Celia/Celia_Lazili-angry-4.jpg\n",
            "Image saved: /content/drive/MyDrive/Project/lfw_/Dataset/Images_crop/Celia/Celia_Lazili-neutral-5.jpg\n",
            "Image saved: /content/drive/MyDrive/Project/lfw_/Dataset/Images_crop/Celia/Celia_Lazili-happy-1.jpg\n",
            "Image saved: /content/drive/MyDrive/Project/lfw_/Dataset/Images_crop/Celia/Celia_Lazili-happy-6.jpg\n",
            "Image saved: /content/drive/MyDrive/Project/lfw_/Dataset/Images_crop/Katia/Katia_HadjKaddour-angry-4.jpg\n",
            "Image saved: /content/drive/MyDrive/Project/lfw_/Dataset/Images_crop/Katia/Katia_HadjKaddour-angry-5.jpg\n",
            "Image saved: /content/drive/MyDrive/Project/lfw_/Dataset/Images_crop/Katia/Katia_HadjKaddour-angry-2.jpg\n",
            "Image saved: /content/drive/MyDrive/Project/lfw_/Dataset/Images_crop/Katia/Katia_HadjKaddour-happy-3.jpg\n",
            "Image saved: /content/drive/MyDrive/Project/lfw_/Dataset/Images_crop/Katia/Katia_HadjKaddour-happy-5.jpg\n",
            "Image saved: /content/drive/MyDrive/Project/lfw_/Dataset/Images_crop/Katia/Katia_HadjKaddour-neutral-2.jpg\n",
            "Image saved: /content/drive/MyDrive/Project/lfw_/Dataset/Images_crop/Katia/Katia_HadjKaddour-neutral-3.jpg\n",
            "Image saved: /content/drive/MyDrive/Project/lfw_/Dataset/Images_crop/Kamelia/Kamelia_Djeffel-neutral-6.jpg\n",
            "Image saved: /content/drive/MyDrive/Project/lfw_/Dataset/Images_crop/Kamelia/Kamelia_Djeffel-neutral-4.jpg\n",
            "Image saved: /content/drive/MyDrive/Project/lfw_/Dataset/Images_crop/Kamelia/Kamelia_Djeffel-neutral-1.jpg\n",
            "Image saved: /content/drive/MyDrive/Project/lfw_/Dataset/Images_crop/Kamelia/Kamelia_Djeffel-happy-6.jpg\n",
            "Image saved: /content/drive/MyDrive/Project/lfw_/Dataset/Images_crop/Kamelia/Kamelia_Djeffel-happy-3.jpg\n",
            "Image saved: /content/drive/MyDrive/Project/lfw_/Dataset/Images_crop/Kamelia/Kamelia_Djeffel-happy-1.jpg\n",
            "Image saved: /content/drive/MyDrive/Project/lfw_/Dataset/Images_crop/Kamelia/Kamelia_Djeffel-angry-1.jpg\n",
            "Image saved: /content/drive/MyDrive/Project/lfw_/Dataset/Images_crop/Kamelia/Kamelia_Djeffel-angry-2.jpg\n",
            "Image saved: /content/drive/MyDrive/Project/lfw_/Dataset/Images_crop/Kamelia/Kamelia_Djeffel-angry-4.jpg\n",
            "Image saved: /content/drive/MyDrive/Project/lfw_/Dataset/Images_crop/Kamelia/Kamelia_Djeffel-angry-5.jpg\n",
            "Image saved: /content/drive/MyDrive/Project/lfw_/Dataset/Images_crop/Kamelia/Kamelia_Djeffel-angry-6.jpg\n",
            "Image saved: /content/drive/MyDrive/Project/lfw_/Dataset/Images_crop/Kamelia/Kamelia_Djeffel-angry-11.jpg\n"
          ]
        }
      ]
    },
    {
      "cell_type": "code",
      "source": [
        "#Define VGG_FACE_MODEL architecture\n",
        "model = Sequential()\n",
        "model.add(ZeroPadding2D((1,1),input_shape=(224,224, 3)))\n",
        "model.add(Convolution2D(64, (3, 3), activation='relu'))\n",
        "model.add(ZeroPadding2D((1,1)))\n",
        "model.add(Convolution2D(64, (3, 3), activation='relu'))\n",
        "model.add(MaxPooling2D((2,2), strides=(2,2)))\n",
        "model.add(ZeroPadding2D((1,1)))\n",
        "model.add(Convolution2D(128, (3, 3), activation='relu'))\n",
        "model.add(ZeroPadding2D((1,1)))\n",
        "model.add(Convolution2D(128, (3, 3), activation='relu'))\n",
        "model.add(MaxPooling2D((2,2), strides=(2,2)))\n",
        "model.add(ZeroPadding2D((1,1)))\n",
        "model.add(Convolution2D(256, (3, 3), activation='relu'))\n",
        "model.add(ZeroPadding2D((1,1)))\n",
        "model.add(Convolution2D(256, (3, 3), activation='relu'))\n",
        "model.add(ZeroPadding2D((1,1)))\n",
        "model.add(Convolution2D(256, (3, 3), activation='relu'))\n",
        "model.add(MaxPooling2D((2,2), strides=(2,2)))\n",
        "model.add(ZeroPadding2D((1,1)))\n",
        "model.add(Convolution2D(512, (3, 3), activation='relu'))\n",
        "model.add(ZeroPadding2D((1,1)))\n",
        "model.add(Convolution2D(512, (3, 3), activation='relu'))\n",
        "model.add(ZeroPadding2D((1,1)))\n",
        "model.add(Convolution2D(512, (3, 3), activation='relu'))\n",
        "model.add(MaxPooling2D((2,2), strides=(2,2)))\n",
        "model.add(ZeroPadding2D((1,1)))\n",
        "model.add(Convolution2D(512, (3, 3), activation='relu'))\n",
        "model.add(ZeroPadding2D((1,1)))\n",
        "model.add(Convolution2D(512, (3, 3), activation='relu'))\n",
        "model.add(ZeroPadding2D((1,1)))\n",
        "model.add(Convolution2D(512, (3, 3), activation='relu'))\n",
        "model.add(MaxPooling2D((2,2), strides=(2,2)))\n",
        "model.add(Convolution2D(4096, (7, 7), activation='relu'))\n",
        "model.add(Dropout(0.5))\n",
        "model.add(Convolution2D(4096, (1, 1), activation='relu'))\n",
        "model.add(Dropout(0.5))\n",
        "model.add(Convolution2D(2622, (1, 1)))\n",
        "model.add(Flatten())\n",
        "model.add(Activation('softmax'))"
      ],
      "metadata": {
        "id": "9JYfpyc_NhpP"
      },
      "execution_count": null,
      "outputs": []
    },
    {
      "cell_type": "code",
      "source": [
        "# Load VGG Face model weights\n",
        "model.load_weights('/content/drive/MyDrive/Project/vgg_face_weights.h5')"
      ],
      "metadata": {
        "id": "jWoumABCOTa4"
      },
      "execution_count": null,
      "outputs": []
    },
    {
      "cell_type": "code",
      "source": [
        "# Remove Last Softmax layer and get model upto last flatten layer with outputs 2622 units\n",
        "vgg_face=Model(inputs=model.layers[0].input,outputs=model.layers[-2].output)"
      ],
      "metadata": {
        "id": "XrU8FDRgOYod"
      },
      "execution_count": null,
      "outputs": []
    },
    {
      "cell_type": "code",
      "source": [
        "vgg_face.save('/content/drive/MyDrive/Project/vgg_f.h5')"
      ],
      "metadata": {
        "colab": {
          "base_uri": "https://localhost:8080/"
        },
        "id": "PSI2ugNyn3iJ",
        "outputId": "07181505-11d6-4eff-b2e6-ae7d3d7b6e70"
      },
      "execution_count": null,
      "outputs": [
        {
          "output_type": "stream",
          "name": "stderr",
          "text": [
            "WARNING:tensorflow:Compiled the loaded model, but the compiled metrics have yet to be built. `model.compile_metrics` will be empty until you train or evaluate the model.\n"
          ]
        }
      ]
    },
    {
      "cell_type": "code",
      "source": [
        "#Prepare Training Data\n",
        "x_train=[]\n",
        "y_train=[]\n",
        "\n",
        "person_folders=os.listdir('/content/drive/MyDrive/Project/lfw_/Dataset/Corped_augmented/')\n",
        "person_rep=dict()\n",
        "\n",
        "print(person_folders)\n",
        "\n",
        "for i,person in enumerate(person_folders):\n",
        "\n",
        "  person_rep[i]=person\n",
        "\n",
        "  image_names=os.listdir('/content/drive/MyDrive/Project/lfw_/Dataset/Corped_augmented/'+person+'/')\n",
        "\n",
        "  for image_name in image_names:\n",
        "\n",
        "    img=load_img(path+'/Corped_augmented/'+person+'/'+image_name,target_size=(224,224))\n",
        "    img=img_to_array(img)\n",
        "    img=np.expand_dims(img,axis=0)\n",
        "    img=preprocess_input(img)\n",
        "    img_encode=vgg_face(img)\n",
        "\n",
        "    # Convert the embedding vector to an array, squeezing the array to remove any single dimensional entries\n",
        "    #Append the embedding vector to the x_train list\n",
        "    x_train.append(np.squeeze(K.eval(img_encode)).tolist())\n",
        "\n",
        "    #Append the label (i) to the y_train list.\n",
        "    y_train.append(i)"
      ],
      "metadata": {
        "colab": {
          "base_uri": "https://localhost:8080/"
        },
        "id": "XVbEy8UzOdrT",
        "outputId": "ed6c9892-73b7-49cf-9858-778fdde839aa"
      },
      "execution_count": null,
      "outputs": [
        {
          "output_type": "stream",
          "name": "stdout",
          "text": [
            "['Yahia', 'Amine', 'Rabeh', 'Ilyas', 'abdelmalek', 'Ayoub', 'Walid', 'Karim', 'Abdelali', 'Ahmed', 'Yacine', 'Houssem', 'Abdlelkader ', 'Sabrina', 'Celia', 'Katia', 'Kamelia', 'Assia']\n"
          ]
        }
      ]
    },
    {
      "cell_type": "code",
      "source": [
        "x_train = np.array(x_train)\n",
        "y_train = np.array(y_train)"
      ],
      "metadata": {
        "id": "1-UuzWohPKJD"
      },
      "execution_count": null,
      "outputs": []
    },
    {
      "cell_type": "code",
      "source": [
        "from keras.utils import to_categorical\n",
        "\n",
        "# Convert the target data to one-hot encoded format\n",
        "y_train_encoded = to_categorical(y_train, num_classes=18)"
      ],
      "metadata": {
        "id": "O9cYTV6MR0xE"
      },
      "execution_count": null,
      "outputs": []
    },
    {
      "cell_type": "code",
      "source": [
        "input_shape = (x_train.shape[1],)"
      ],
      "metadata": {
        "id": "Ky7NANH1QPii"
      },
      "execution_count": null,
      "outputs": []
    },
    {
      "cell_type": "code",
      "source": [
        "classifier = Sequential()\n",
        "classifier.add(Flatten(input_shape=input_shape))\n",
        "classifier.add(Dense(128, activation='relu'))\n",
        "classifier.add(Dropout(0.3))\n",
        "classifier.add(Dense(64, activation='relu'))\n",
        "classifier.add(Dense(18, activation='softmax'))\n"
      ],
      "metadata": {
        "id": "lX2cIFkYNwuS"
      },
      "execution_count": null,
      "outputs": []
    },
    {
      "cell_type": "code",
      "source": [
        "classifier.summary()"
      ],
      "metadata": {
        "colab": {
          "base_uri": "https://localhost:8080/"
        },
        "id": "4xm6nG9z7AkR",
        "outputId": "70eee328-fd93-40fd-cd85-95d1285ff049"
      },
      "execution_count": null,
      "outputs": [
        {
          "output_type": "stream",
          "name": "stdout",
          "text": [
            "Model: \"sequential_2\"\n",
            "_________________________________________________________________\n",
            " Layer (type)                Output Shape              Param #   \n",
            "=================================================================\n",
            " flatten_2 (Flatten)         (None, 2622)              0         \n",
            "                                                                 \n",
            " dense_3 (Dense)             (None, 128)               335744    \n",
            "                                                                 \n",
            " dropout_3 (Dropout)         (None, 128)               0         \n",
            "                                                                 \n",
            " dense_4 (Dense)             (None, 64)                8256      \n",
            "                                                                 \n",
            " dense_5 (Dense)             (None, 18)                1170      \n",
            "                                                                 \n",
            "=================================================================\n",
            "Total params: 345,170\n",
            "Trainable params: 345,170\n",
            "Non-trainable params: 0\n",
            "_________________________________________________________________\n"
          ]
        }
      ]
    },
    {
      "cell_type": "code",
      "source": [
        "# Compile the model\n",
        "classifier.compile(optimizer='adam',loss='categorical_crossentropy', metrics=['accuracy'])\n"
      ],
      "metadata": {
        "id": "VLZ_7YZXRMY6"
      },
      "execution_count": null,
      "outputs": []
    },
    {
      "cell_type": "code",
      "source": [
        "history = classifier.fit(x_train, y_train_encoded, epochs=30, batch_size=32)"
      ],
      "metadata": {
        "colab": {
          "base_uri": "https://localhost:8080/"
        },
        "id": "JjYdeHjQROHo",
        "outputId": "82242c66-1984-4220-8fb3-81362694b3ef"
      },
      "execution_count": null,
      "outputs": [
        {
          "output_type": "stream",
          "name": "stdout",
          "text": [
            "Epoch 1/30\n",
            "36/36 [==============================] - 1s 3ms/step - loss: 0.9799 - accuracy: 0.7509\n",
            "Epoch 2/30\n",
            "36/36 [==============================] - 0s 4ms/step - loss: 0.2051 - accuracy: 0.9450\n",
            "Epoch 3/30\n",
            "36/36 [==============================] - 0s 3ms/step - loss: 0.1503 - accuracy: 0.9468\n",
            "Epoch 4/30\n",
            "36/36 [==============================] - 0s 3ms/step - loss: 0.1163 - accuracy: 0.9672\n",
            "Epoch 5/30\n",
            "36/36 [==============================] - 0s 3ms/step - loss: 0.0667 - accuracy: 0.9849\n",
            "Epoch 6/30\n",
            "36/36 [==============================] - 0s 3ms/step - loss: 0.0538 - accuracy: 0.9867\n",
            "Epoch 7/30\n",
            "36/36 [==============================] - 0s 3ms/step - loss: 0.0435 - accuracy: 0.9885\n",
            "Epoch 8/30\n",
            "36/36 [==============================] - 0s 3ms/step - loss: 0.0212 - accuracy: 0.9956\n",
            "Epoch 9/30\n",
            "36/36 [==============================] - 0s 3ms/step - loss: 0.0403 - accuracy: 0.9867\n",
            "Epoch 10/30\n",
            "36/36 [==============================] - 0s 4ms/step - loss: 0.0304 - accuracy: 0.9902\n",
            "Epoch 11/30\n",
            "36/36 [==============================] - 0s 3ms/step - loss: 0.0513 - accuracy: 0.9805\n",
            "Epoch 12/30\n",
            "36/36 [==============================] - 0s 3ms/step - loss: 0.0294 - accuracy: 0.9911\n",
            "Epoch 13/30\n",
            "36/36 [==============================] - 0s 3ms/step - loss: 0.0289 - accuracy: 0.9920\n",
            "Epoch 14/30\n",
            "36/36 [==============================] - 0s 3ms/step - loss: 0.0794 - accuracy: 0.9894\n",
            "Epoch 15/30\n",
            "36/36 [==============================] - 0s 4ms/step - loss: 0.0568 - accuracy: 0.9858\n",
            "Epoch 16/30\n",
            "36/36 [==============================] - 0s 3ms/step - loss: 0.1168 - accuracy: 0.9637\n",
            "Epoch 17/30\n",
            "36/36 [==============================] - 0s 3ms/step - loss: 0.0764 - accuracy: 0.9778\n",
            "Epoch 18/30\n",
            "36/36 [==============================] - 0s 3ms/step - loss: 0.0292 - accuracy: 0.9911\n",
            "Epoch 19/30\n",
            "36/36 [==============================] - 0s 3ms/step - loss: 0.0238 - accuracy: 0.9920\n",
            "Epoch 20/30\n",
            "36/36 [==============================] - 0s 3ms/step - loss: 0.0690 - accuracy: 0.9752\n",
            "Epoch 21/30\n",
            "36/36 [==============================] - 0s 3ms/step - loss: 0.0177 - accuracy: 0.9956\n",
            "Epoch 22/30\n",
            "36/36 [==============================] - 0s 3ms/step - loss: 0.0251 - accuracy: 0.9902\n",
            "Epoch 23/30\n",
            "36/36 [==============================] - 0s 3ms/step - loss: 0.0396 - accuracy: 0.9867\n",
            "Epoch 24/30\n",
            "36/36 [==============================] - 0s 3ms/step - loss: 0.0267 - accuracy: 0.9902\n",
            "Epoch 25/30\n",
            "36/36 [==============================] - 0s 4ms/step - loss: 0.0355 - accuracy: 0.9885\n",
            "Epoch 26/30\n",
            "36/36 [==============================] - 0s 3ms/step - loss: 0.0115 - accuracy: 0.9929\n",
            "Epoch 27/30\n",
            "36/36 [==============================] - 0s 3ms/step - loss: 0.0139 - accuracy: 0.9938\n",
            "Epoch 28/30\n",
            "36/36 [==============================] - 0s 3ms/step - loss: 0.0056 - accuracy: 0.9982\n",
            "Epoch 29/30\n",
            "36/36 [==============================] - 0s 3ms/step - loss: 0.0117 - accuracy: 0.9956\n",
            "Epoch 30/30\n",
            "36/36 [==============================] - 0s 3ms/step - loss: 0.0169 - accuracy: 0.9956\n"
          ]
        }
      ]
    },
    {
      "cell_type": "code",
      "source": [
        "import matplotlib.pyplot as plt\n",
        "plt.figure(figsize=(10,4))\n",
        "plt.subplot(1,2,1)\n",
        "plt.plot(history.history['loss'], label='training loss')\n",
        "plt.legend()\n",
        "plt.title(\"Loss\")\n",
        "plt.subplot(1,2,2)\n",
        "plt.plot(history.history['accuracy'], label='training accuracy')\n",
        "plt.legend()\n",
        "plt.title(f\"Accuracy\")\n",
        "plt.show()"
      ],
      "metadata": {
        "colab": {
          "base_uri": "https://localhost:8080/",
          "height": 391
        },
        "id": "1d9xwZ0le9wd",
        "outputId": "4fe5af5c-f25e-4ec7-f8ad-6d522a0a7766"
      },
      "execution_count": null,
      "outputs": [
        {
          "output_type": "display_data",
          "data": {
            "text/plain": [
              "<Figure size 1000x400 with 2 Axes>"
            ],
            "image/png": "[encoded data removed]"
          },
          "metadata": {}
        }
      ]
    },
    {
      "cell_type": "code",
      "source": [
        "# Get Image names stored in Images folder\n",
        "image_test_names=[]\n",
        "test_names=set()\n",
        "for file_name in glob.glob(path+'/Images_test/*.jpg'):\n",
        "  image_test_names.append(file_name)\n",
        "  test_names.add(image_test_names[-1].split('/')[-1].split('_')[0])"
      ],
      "metadata": {
        "id": "mBW5uyzeOJGH"
      },
      "execution_count": null,
      "outputs": []
    },
    {
      "cell_type": "code",
      "source": [
        "test_names"
      ],
      "metadata": {
        "colab": {
          "base_uri": "https://localhost:8080/"
        },
        "id": "1FEsLEl9SV3l",
        "outputId": "138fe106-33a3-4632-d1c9-ce17b2e08668"
      },
      "execution_count": null,
      "outputs": [
        {
          "output_type": "execute_result",
          "data": {
            "text/plain": [
              "{'Abdelali',\n",
              " 'Abdlelkader ',\n",
              " 'Ahmed',\n",
              " 'Amine',\n",
              " 'Assia',\n",
              " 'Ayoub',\n",
              " 'Celia',\n",
              " 'Houssem',\n",
              " 'Ilyas',\n",
              " 'Kamelia',\n",
              " 'Karim',\n",
              " 'Katia',\n",
              " 'Rabeh',\n",
              " 'Sabrina',\n",
              " 'Walid',\n",
              " 'Yacine',\n",
              " 'Yahia'}"
            ]
          },
          "metadata": {},
          "execution_count": 31
        }
      ]
    },
    {
      "cell_type": "code",
      "source": [
        "for file_name in image_test_names:\n",
        "  print(file_name)\n",
        "\n",
        "  img = cv2.imread(file_name)\n",
        "\n",
        "  gray = cv2.cvtColor(img, cv2.COLOR_BGR2GRAY)\n",
        "\n",
        "  rects = face_cascade.detectMultiScale(gray, scaleFactor=1.1, minNeighbors=5, minSize=(30, 30))\n",
        "\n",
        "  left, top, right, bottom = 0, 0, 0, 0\n",
        "\n",
        "  # if len(rects) != 1:\n",
        "  #         continue\n",
        "\n",
        "  left, top, right, bottom = rects[0]\n",
        "\n",
        "  img_crop = img[top:top + bottom, left:left + right]\n",
        "  img_path = path + '/Test_Images_crop/' + file_name.split('/')[-1].split('_')[0] + '/' + file_name.split('/')[-1]\n",
        "\n",
        "  try:\n",
        "\n",
        "    os.makedirs(os.path.dirname(img_path), exist_ok=True)  # Create the necessary directories\n",
        "    cv2.imwrite(img_path, img_crop)\n",
        "    print(f\"Image saved: {img_path}\")\n",
        "  except Exception as e:\n",
        "    print(f\"Failed to save image: {img_path}\")\n",
        "    print(f\"Error: {str(e)}\")"
      ],
      "metadata": {
        "colab": {
          "base_uri": "https://localhost:8080/"
        },
        "id": "HVJznrJUSab9",
        "outputId": "5bce2f87-adc4-4c10-fadb-6e4c366311b8"
      },
      "execution_count": null,
      "outputs": [
        {
          "output_type": "stream",
          "name": "stdout",
          "text": [
            "/content/drive/MyDrive/Project/lfw_/Dataset/Images_test/Celia_Lazili-neutral-3.jpg\n",
            "Image saved: /content/drive/MyDrive/Project/lfw_/Dataset/Test_Images_crop/Celia/Celia_Lazili-neutral-3.jpg\n",
            "/content/drive/MyDrive/Project/lfw_/Dataset/Images_test/Assia_Madani-happy-1.jpg\n",
            "Image saved: /content/drive/MyDrive/Project/lfw_/Dataset/Test_Images_crop/Assia/Assia_Madani-happy-1.jpg\n",
            "/content/drive/MyDrive/Project/lfw_/Dataset/Images_test/Amine_lasheb-neutral-2.jpg\n",
            "Image saved: /content/drive/MyDrive/Project/lfw_/Dataset/Test_Images_crop/Amine/Amine_lasheb-neutral-2.jpg\n",
            "/content/drive/MyDrive/Project/lfw_/Dataset/Images_test/Ayoub_frihaoui-happy-1.jpg\n",
            "Image saved: /content/drive/MyDrive/Project/lfw_/Dataset/Test_Images_crop/Ayoub/Ayoub_frihaoui-happy-1.jpg\n",
            "/content/drive/MyDrive/Project/lfw_/Dataset/Images_test/Ilyas_Alili-happy-1.jpg\n",
            "Image saved: /content/drive/MyDrive/Project/lfw_/Dataset/Test_Images_crop/Ilyas/Ilyas_Alili-happy-1.jpg\n",
            "/content/drive/MyDrive/Project/lfw_/Dataset/Images_test/Rabeh_Aouar-happy-1.jpg\n",
            "Image saved: /content/drive/MyDrive/Project/lfw_/Dataset/Test_Images_crop/Rabeh/Rabeh_Aouar-happy-1.jpg\n",
            "/content/drive/MyDrive/Project/lfw_/Dataset/Images_test/Walid_abdellaoui-neutral-1.jpg\n",
            "Image saved: /content/drive/MyDrive/Project/lfw_/Dataset/Test_Images_crop/Walid/Walid_abdellaoui-neutral-1.jpg\n",
            "/content/drive/MyDrive/Project/lfw_/Dataset/Images_test/Walid_abdellaoui-neutral-3.jpg\n",
            "Image saved: /content/drive/MyDrive/Project/lfw_/Dataset/Test_Images_crop/Walid/Walid_abdellaoui-neutral-3.jpg\n",
            "/content/drive/MyDrive/Project/lfw_/Dataset/Images_test/Walid_abdellaoui-tired-3.jpg\n",
            "Image saved: /content/drive/MyDrive/Project/lfw_/Dataset/Test_Images_crop/Walid/Walid_abdellaoui-tired-3.jpg\n",
            "/content/drive/MyDrive/Project/lfw_/Dataset/Images_test/Yahia_boukharouba-happy-2.jpg\n",
            "Image saved: /content/drive/MyDrive/Project/lfw_/Dataset/Test_Images_crop/Yahia/Yahia_boukharouba-happy-2.jpg\n",
            "/content/drive/MyDrive/Project/lfw_/Dataset/Images_test/Karim_cherrab-neutral-2.jpg\n",
            "Image saved: /content/drive/MyDrive/Project/lfw_/Dataset/Test_Images_crop/Karim/Karim_cherrab-neutral-2.jpg\n",
            "/content/drive/MyDrive/Project/lfw_/Dataset/Images_test/Yahia_test1.jpg\n",
            "Image saved: /content/drive/MyDrive/Project/lfw_/Dataset/Test_Images_crop/Yahia/Yahia_test1.jpg\n",
            "/content/drive/MyDrive/Project/lfw_/Dataset/Images_test/Yahia_test2.jpg\n",
            "Image saved: /content/drive/MyDrive/Project/lfw_/Dataset/Test_Images_crop/Yahia/Yahia_test2.jpg\n",
            "/content/drive/MyDrive/Project/lfw_/Dataset/Images_test/Yacine_Khattara-neutral-1.jpg\n",
            "Image saved: /content/drive/MyDrive/Project/lfw_/Dataset/Test_Images_crop/Yacine/Yacine_Khattara-neutral-1.jpg\n",
            "/content/drive/MyDrive/Project/lfw_/Dataset/Images_test/Abdlelkader _Mahboubi-neutral-4.jpg\n",
            "Image saved: /content/drive/MyDrive/Project/lfw_/Dataset/Test_Images_crop/Abdlelkader /Abdlelkader _Mahboubi-neutral-4.jpg\n",
            "/content/drive/MyDrive/Project/lfw_/Dataset/Images_test/Abdelali_Ichou-neutral-1.jpg\n",
            "Image saved: /content/drive/MyDrive/Project/lfw_/Dataset/Test_Images_crop/Abdelali/Abdelali_Ichou-neutral-1.jpg\n",
            "/content/drive/MyDrive/Project/lfw_/Dataset/Images_test/Ahmed_Djellouli-neutral-1.jpg\n",
            "Image saved: /content/drive/MyDrive/Project/lfw_/Dataset/Test_Images_crop/Ahmed/Ahmed_Djellouli-neutral-1.jpg\n",
            "/content/drive/MyDrive/Project/lfw_/Dataset/Images_test/Sabrina_Belkhodja-neutral-4.jpg\n",
            "Image saved: /content/drive/MyDrive/Project/lfw_/Dataset/Test_Images_crop/Sabrina/Sabrina_Belkhodja-neutral-4.jpg\n",
            "/content/drive/MyDrive/Project/lfw_/Dataset/Images_test/Kamelia_Djeffel-neutral-5.jpg\n",
            "Image saved: /content/drive/MyDrive/Project/lfw_/Dataset/Test_Images_crop/Kamelia/Kamelia_Djeffel-neutral-5.jpg\n",
            "/content/drive/MyDrive/Project/lfw_/Dataset/Images_test/Katia_HadjKaddour-neutral-5.jpg\n",
            "Image saved: /content/drive/MyDrive/Project/lfw_/Dataset/Test_Images_crop/Katia/Katia_HadjKaddour-neutral-5.jpg\n",
            "/content/drive/MyDrive/Project/lfw_/Dataset/Images_test/Houssem_saidoune-happy-1.jpg\n",
            "Image saved: /content/drive/MyDrive/Project/lfw_/Dataset/Test_Images_crop/Houssem/Houssem_saidoune-happy-1.jpg\n"
          ]
        }
      ]
    },
    {
      "cell_type": "code",
      "source": [
        "#Prepare Test Data\n",
        "x_test=[]\n",
        "y_test=[]\n",
        "#predictions_=[]\n",
        "\n",
        "def find_index_by_name(dictionary, value):\n",
        "    for key, val in dictionary.items():\n",
        "        if val == value:\n",
        "            return key\n",
        "person_folders=os.listdir(path+'/Test_Images_crop/')\n",
        "\n",
        "for i,person in enumerate(person_folders):\n",
        "  image_names=os.listdir('/content/drive/MyDrive/Project/lfw_/Dataset/Test_Images_crop/'+person+'/')\n",
        "\n",
        "  for image_name in image_names:\n",
        "\n",
        "    img=load_img(path+'/Test_Images_crop/'+person+'/'+image_name,target_size=(224,224))\n",
        "    img=img_to_array(img)\n",
        "    img=np.expand_dims(img,axis=0)\n",
        "    img=preprocess_input(img)\n",
        "    img_encode=vgg_face(img)\n",
        "\n",
        "    x_test.append(np.squeeze(K.eval(img_encode)).tolist())\n",
        "    index = find_index_by_name(person_rep,person)\n",
        "    y_test.append(index)\n",
        "    print(\"true\")\n",
        "    #name = recognize_face(img_encode)\n",
        "    #predictions_.append(name)\n",
        "\n",
        "    #print(\"the real person:\",image_name)\n",
        "    #print(\"the predicted person:\",name,\"-->\",person_rep[name])\n",
        "    #print(\"_____________________________\\n\")"
      ],
      "metadata": {
        "id": "o4Okx86gSwHd",
        "colab": {
          "base_uri": "https://localhost:8080/"
        },
        "outputId": "31712861-9487-4fec-f65d-c868c622e4cd"
      },
      "execution_count": null,
      "outputs": [
        {
          "output_type": "stream",
          "name": "stdout",
          "text": [
            "true\n",
            "true\n",
            "true\n",
            "true\n",
            "true\n",
            "true\n",
            "true\n",
            "true\n",
            "true\n",
            "true\n",
            "true\n",
            "true\n",
            "true\n",
            "true\n",
            "true\n",
            "true\n",
            "true\n",
            "true\n",
            "true\n",
            "true\n",
            "true\n",
            "true\n"
          ]
        }
      ]
    },
    {
      "cell_type": "code",
      "source": [
        "x_test=np.array(x_test)\n",
        "y_test=np.array(y_test)"
      ],
      "metadata": {
        "id": "5_nSDXjyTAX0"
      },
      "execution_count": null,
      "outputs": []
    },
    {
      "cell_type": "code",
      "source": [
        "y_test"
      ],
      "metadata": {
        "colab": {
          "base_uri": "https://localhost:8080/"
        },
        "id": "yl4fW2s5crDz",
        "outputId": "a86b809a-3697-41b8-c5f4-5b28ebc1abfc"
      },
      "execution_count": null,
      "outputs": [
        {
          "output_type": "execute_result",
          "data": {
            "text/plain": [
              "array([ 4, 17,  1,  5,  3,  2,  6,  6,  6,  0,  0,  0,  7, 13, 14, 10, 12,\n",
              "        8,  9, 16, 15, 11])"
            ]
          },
          "metadata": {},
          "execution_count": 35
        }
      ]
    },
    {
      "cell_type": "code",
      "source": [
        "# Save test and train data for later use\n",
        "np.save('train_data',x_train)\n",
        "np.save('train_labels',y_train)\n",
        "np.save('test_data',x_test)\n",
        "np.save('test_labels',y_test)"
      ],
      "metadata": {
        "id": "FWKKUTJvTDPG"
      },
      "execution_count": null,
      "outputs": []
    },
    {
      "cell_type": "code",
      "source": [
        "# Load saved data\n",
        "x_train=np.load('train_data.npy')\n",
        "y_train=np.load('train_labels.npy')\n",
        "x_test=np.load('test_data.npy')\n",
        "y_test=np.load('test_labels.npy')\n",
        ""
      ],
      "metadata": {
        "id": "YKf8Wm89TGOD"
      },
      "execution_count": null,
      "outputs": []
    },
    {
      "cell_type": "code",
      "source": [
        "person_rep"
      ],
      "metadata": {
        "colab": {
          "base_uri": "https://localhost:8080/"
        },
        "id": "egBx0BK7UGop",
        "outputId": "667dff70-4ad1-4c86-8746-b38ea2d7866f"
      },
      "execution_count": null,
      "outputs": [
        {
          "output_type": "execute_result",
          "data": {
            "text/plain": [
              "{0: 'Yahia',\n",
              " 1: 'Amine',\n",
              " 2: 'Rabeh',\n",
              " 3: 'Ilyas',\n",
              " 4: 'abdelmalek',\n",
              " 5: 'Ayoub',\n",
              " 6: 'Walid',\n",
              " 7: 'Karim',\n",
              " 8: 'Abdelali',\n",
              " 9: 'Ahmed',\n",
              " 10: 'Yacine',\n",
              " 11: 'Houssem',\n",
              " 12: 'Abdlelkader ',\n",
              " 13: 'Sabrina',\n",
              " 14: 'Celia',\n",
              " 15: 'Katia',\n",
              " 16: 'Kamelia',\n",
              " 17: 'Assia'}"
            ]
          },
          "metadata": {},
          "execution_count": 38
        }
      ]
    },
    {
      "cell_type": "code",
      "source": [
        "predictions_ = []\n",
        "for person_name in os.listdir('/content/drive/MyDrive/Project/lfw_/Dataset/Test_Images_crop/'):\n",
        "  for img_name in os.listdir('/content/drive/MyDrive/Project/lfw_/Dataset/Test_Images_crop/'+person_name+'/'):\n",
        "\n",
        "    # Load Image\n",
        "      img=cv2.imread('/content/drive/MyDrive/Project/lfw_/Dataset/Test_Images_crop/'+person_name+'/'+img_name)\n",
        "\n",
        "      img_crop = cv2.resize(img,(224, 224))\n",
        "      crop_img=img_to_array(img_crop)\n",
        "      crop_img=np.expand_dims(crop_img,axis=0)\n",
        "      crop_img=preprocess_input(crop_img)\n",
        "      img_encode=vgg_face(crop_img)\n",
        "      classifier_prediction = classifier.predict(img_encode)\n",
        "      predicted_index = np.argmax(classifier_prediction, axis=1)\n",
        "      predictions_.append(int(predicted_index))\n",
        "\n",
        "      print(\"the real person:\",img_name)\n",
        "      print(\"the predicted person:\",person_rep[int(predicted_index)])\n",
        "      print(\"_____________________________\\n\")\n"
      ],
      "metadata": {
        "colab": {
          "base_uri": "https://localhost:8080/"
        },
        "id": "4HqE6E_-TMIY",
        "outputId": "51b9e139-cd99-4ad0-bd58-47909c679ccc"
      },
      "execution_count": null,
      "outputs": [
        {
          "output_type": "stream",
          "name": "stdout",
          "text": [
            "1/1 [==============================] - 0s 70ms/step\n",
            "the real person: abdelmalek_bounoua-tired-5.jpg\n",
            "the predicted person: abdelmalek\n",
            "_____________________________\n",
            "\n",
            "1/1 [==============================] - 0s 14ms/step\n",
            "the real person: Assia_Madani-happy-1.jpg\n",
            "the predicted person: Assia\n",
            "_____________________________\n",
            "\n",
            "1/1 [==============================] - 0s 15ms/step\n",
            "the real person: Amine_lasheb-neutral-2.jpg\n",
            "the predicted person: Amine\n",
            "_____________________________\n",
            "\n",
            "1/1 [==============================] - 0s 16ms/step\n",
            "the real person: Ayoub_frihaoui-happy-1.jpg\n",
            "the predicted person: Ayoub\n",
            "_____________________________\n",
            "\n",
            "1/1 [==============================] - 0s 14ms/step\n",
            "the real person: Ilyas_Alili-happy-1.jpg\n",
            "the predicted person: Ilyas\n",
            "_____________________________\n",
            "\n",
            "1/1 [==============================] - 0s 15ms/step\n",
            "the real person: Rabeh_Aouar-happy-1.jpg\n",
            "the predicted person: Rabeh\n",
            "_____________________________\n",
            "\n",
            "1/1 [==============================] - 0s 14ms/step\n",
            "the real person: Walid_abdellaoui-neutral-1.jpg\n",
            "the predicted person: Walid\n",
            "_____________________________\n",
            "\n",
            "1/1 [==============================] - 0s 14ms/step\n",
            "the real person: Walid_abdellaoui-neutral-3.jpg\n",
            "the predicted person: Walid\n",
            "_____________________________\n",
            "\n",
            "1/1 [==============================] - 0s 15ms/step\n",
            "the real person: Walid_abdellaoui-tired-3.jpg\n",
            "the predicted person: Walid\n",
            "_____________________________\n",
            "\n",
            "1/1 [==============================] - 0s 14ms/step\n",
            "the real person: Yahia_boukharouba-happy-2.jpg\n",
            "the predicted person: Yahia\n",
            "_____________________________\n",
            "\n",
            "1/1 [==============================] - 0s 14ms/step\n",
            "the real person: Yahia_test1.jpg\n",
            "the predicted person: Yahia\n",
            "_____________________________\n",
            "\n",
            "1/1 [==============================] - 0s 18ms/step\n",
            "the real person: Yahia_test2.jpg\n",
            "the predicted person: Yahia\n",
            "_____________________________\n",
            "\n",
            "1/1 [==============================] - 0s 14ms/step\n",
            "the real person: Karim_cherrab-neutral-2.jpg\n",
            "the predicted person: Karim\n",
            "_____________________________\n",
            "\n",
            "1/1 [==============================] - 0s 14ms/step\n",
            "the real person: Sabrina_Belkhodja-neutral-4.jpg\n",
            "the predicted person: Sabrina\n",
            "_____________________________\n",
            "\n",
            "1/1 [==============================] - 0s 14ms/step\n",
            "the real person: Celia_Lazili-neutral-3.jpg\n",
            "the predicted person: Celia\n",
            "_____________________________\n",
            "\n",
            "1/1 [==============================] - 0s 14ms/step\n",
            "the real person: Yacine_Khattara-neutral-1.jpg\n",
            "the predicted person: Yacine\n",
            "_____________________________\n",
            "\n",
            "1/1 [==============================] - 0s 16ms/step\n",
            "the real person: Abdlelkader _Mahboubi-neutral-4.jpg\n",
            "the predicted person: Abdlelkader \n",
            "_____________________________\n",
            "\n",
            "1/1 [==============================] - 0s 18ms/step\n",
            "the real person: Abdelali_Ichou-neutral-1.jpg\n",
            "the predicted person: Abdelali\n",
            "_____________________________\n",
            "\n",
            "1/1 [==============================] - 0s 16ms/step\n",
            "the real person: Ahmed_Djellouli-neutral-1.jpg\n",
            "the predicted person: Ahmed\n",
            "_____________________________\n",
            "\n",
            "1/1 [==============================] - 0s 23ms/step\n",
            "the real person: Kamelia_Djeffel-neutral-5.jpg\n",
            "the predicted person: Kamelia\n",
            "_____________________________\n",
            "\n",
            "1/1 [==============================] - 0s 22ms/step\n",
            "the real person: Katia_HadjKaddour-neutral-5.jpg\n",
            "the predicted person: Katia\n",
            "_____________________________\n",
            "\n",
            "1/1 [==============================] - 0s 22ms/step\n",
            "the real person: Houssem_saidoune-happy-1.jpg\n",
            "the predicted person: Houssem\n",
            "_____________________________\n",
            "\n"
          ]
        }
      ]
    },
    {
      "cell_type": "code",
      "source": [
        "predictions_"
      ],
      "metadata": {
        "colab": {
          "base_uri": "https://localhost:8080/"
        },
        "id": "yeHOxc66iBPj",
        "outputId": "a2b048db-5e31-4252-cdeb-634c17b25992"
      },
      "execution_count": null,
      "outputs": [
        {
          "output_type": "execute_result",
          "data": {
            "text/plain": [
              "[4, 17, 1, 5, 3, 2, 6, 6, 6, 0, 0, 0, 7, 13, 14, 10, 12, 8, 9, 16, 15, 11]"
            ]
          },
          "metadata": {},
          "execution_count": 40
        }
      ]
    },
    {
      "cell_type": "code",
      "source": [
        "y_test"
      ],
      "metadata": {
        "colab": {
          "base_uri": "https://localhost:8080/"
        },
        "id": "TGWkLvx6aOra",
        "outputId": "79ddb718-e4ea-4404-e591-59f9b9603a34"
      },
      "execution_count": null,
      "outputs": [
        {
          "output_type": "execute_result",
          "data": {
            "text/plain": [
              "array([ 4, 17,  1,  5,  3,  2,  6,  6,  6,  0,  0,  0,  7, 13, 14, 10, 12,\n",
              "        8,  9, 16, 15, 11])"
            ]
          },
          "metadata": {},
          "execution_count": 41
        }
      ]
    },
    {
      "cell_type": "code",
      "source": [
        "class_labels = ['Assia','Yahia','Amine','Rabeh','Ilyas','abdelmalek','Ayoub','Walid','Karim','Abdelali','Ahmed','Yacine','Houssem','Abdlelkader','Sabrina','Celia','Katia','Kamelia']"
      ],
      "metadata": {
        "id": "h8nfcVAutpPt"
      },
      "execution_count": null,
      "outputs": []
    },
    {
      "cell_type": "code",
      "source": [
        "from sklearn.metrics import classification_report\n",
        "\n",
        "# Generate the classification report\n",
        "report = classification_report(y_test, predictions_,target_names=class_labels)\n",
        "\n",
        "print(report)"
      ],
      "metadata": {
        "colab": {
          "base_uri": "https://localhost:8080/"
        },
        "id": "sNXUTLCSZ9-2",
        "outputId": "9444acac-e499-4f83-a8df-011b8fc072e6"
      },
      "execution_count": null,
      "outputs": [
        {
          "output_type": "stream",
          "name": "stdout",
          "text": [
            "              precision    recall  f1-score   support\n",
            "\n",
            "       Assia       1.00      1.00      1.00         3\n",
            "       Yahia       1.00      1.00      1.00         1\n",
            "       Amine       1.00      1.00      1.00         1\n",
            "       Rabeh       1.00      1.00      1.00         1\n",
            "       Ilyas       1.00      1.00      1.00         1\n",
            "  abdelmalek       1.00      1.00      1.00         1\n",
            "       Ayoub       1.00      1.00      1.00         3\n",
            "       Walid       1.00      1.00      1.00         1\n",
            "       Karim       1.00      1.00      1.00         1\n",
            "    Abdelali       1.00      1.00      1.00         1\n",
            "       Ahmed       1.00      1.00      1.00         1\n",
            "      Yacine       1.00      1.00      1.00         1\n",
            "     Houssem       1.00      1.00      1.00         1\n",
            " Abdlelkader       1.00      1.00      1.00         1\n",
            "     Sabrina       1.00      1.00      1.00         1\n",
            "       Celia       1.00      1.00      1.00         1\n",
            "       Katia       1.00      1.00      1.00         1\n",
            "     Kamelia       1.00      1.00      1.00         1\n",
            "\n",
            "    accuracy                           1.00        22\n",
            "   macro avg       1.00      1.00      1.00        22\n",
            "weighted avg       1.00      1.00      1.00        22\n",
            "\n"
          ]
        }
      ]
    },
    {
      "cell_type": "code",
      "source": [
        "import seaborn as sns\n",
        "import matplotlib.pyplot as plt\n",
        "from sklearn.metrics import confusion_matrix\n",
        "# Create the confusion matrix\n",
        "cm = confusion_matrix(y_test, predictions_)\n",
        "class_labels = ['Assia','Yahia','Amine','Rabeh','Ilyas','abdelmalek','Ayoub','Walid','Karim','Abdelali','Ahmed','Yacine','Houssem','Abdlelkader','Sabrina','Celia','Katia','Kamelia']\n",
        "\n",
        "# Create a heatmap of the confusion matrix\n",
        "sns.heatmap(cm, annot=True, cmap='Blues', xticklabels=class_labels, yticklabels=class_labels)\n",
        "\n",
        "# Add labels, title, and ticks to the plot\n",
        "plt.xlabel('Predicted Labels')\n",
        "plt.ylabel('True Labels')\n",
        "plt.title('Confusion Matrix')\n",
        "# plt.xticks(ticks=)\n",
        "# plt.yticks(ticks=[0, 1, 2])\n",
        "\n",
        "# Display the plot\n",
        "plt.show()"
      ],
      "metadata": {
        "colab": {
          "base_uri": "https://localhost:8080/",
          "height": 541
        },
        "id": "fxyQZgvd0emY",
        "outputId": "b719930f-b392-46df-b7e5-c7685c712a50"
      },
      "execution_count": null,
      "outputs": [
        {
          "output_type": "display_data",
          "data": {
            "text/plain": [
              "<Figure size 640x480 with 2 Axes>"
            ],
            "image/png": "[encoded data removed]"
          },
          "metadata": {}
        }
      ]
    },
    {
      "cell_type": "code",
      "source": [
        "classifier.save('classifier_face.h5')"
      ],
      "metadata": {
        "id": "0NeQabMFVEM5"
      },
      "execution_count": null,
      "outputs": []
    },
    {
      "cell_type": "code",
      "source": [
        "from keras.models import load_model\n",
        "model_ = load_model('classifier_face.h5')"
      ],
      "metadata": {
        "id": "qkZz9g9ZYuvH",
        "colab": {
          "base_uri": "https://localhost:8080/",
          "height": 329
        },
        "outputId": "358fdbae-aeb6-4c56-a460-fe21dfb46c6f"
      },
      "execution_count": null,
      "outputs": [
        {
          "output_type": "error",
          "ename": "OSError",
          "evalue": "ignored",
          "traceback": [
            "\u001b[0;31m---------------------------------------------------------------------------\u001b[0m",
            "\u001b[0;31mOSError\u001b[0m                                   Traceback (most recent call last)",
            "\u001b[0;32m<ipython-input-51-fa6de110d140>\u001b[0m in \u001b[0;36m<cell line: 2>\u001b[0;34m()\u001b[0m\n\u001b[1;32m      1\u001b[0m \u001b[0;32mfrom\u001b[0m \u001b[0mkeras\u001b[0m\u001b[0;34m.\u001b[0m\u001b[0mmodels\u001b[0m \u001b[0;32mimport\u001b[0m \u001b[0mload_model\u001b[0m\u001b[0;34m\u001b[0m\u001b[0;34m\u001b[0m\u001b[0m\n\u001b[0;32m----> 2\u001b[0;31m \u001b[0mmodel_\u001b[0m \u001b[0;34m=\u001b[0m \u001b[0mload_model\u001b[0m\u001b[0;34m(\u001b[0m\u001b[0;34m'classifier_face.h5'\u001b[0m\u001b[0;34m)\u001b[0m\u001b[0;34m\u001b[0m\u001b[0;34m\u001b[0m\u001b[0m\n\u001b[0m",
            "\u001b[0;32m/usr/local/lib/python3.10/dist-packages/keras/saving/saving_api.py\u001b[0m in \u001b[0;36mload_model\u001b[0;34m(filepath, custom_objects, compile, safe_mode, **kwargs)\u001b[0m\n\u001b[1;32m    210\u001b[0m \u001b[0;34m\u001b[0m\u001b[0m\n\u001b[1;32m    211\u001b[0m     \u001b[0;31m# Legacy case.\u001b[0m\u001b[0;34m\u001b[0m\u001b[0;34m\u001b[0m\u001b[0m\n\u001b[0;32m--> 212\u001b[0;31m     return legacy_sm_saving_lib.load_model(\n\u001b[0m\u001b[1;32m    213\u001b[0m         \u001b[0mfilepath\u001b[0m\u001b[0;34m,\u001b[0m \u001b[0mcustom_objects\u001b[0m\u001b[0;34m=\u001b[0m\u001b[0mcustom_objects\u001b[0m\u001b[0;34m,\u001b[0m \u001b[0mcompile\u001b[0m\u001b[0;34m=\u001b[0m\u001b[0mcompile\u001b[0m\u001b[0;34m,\u001b[0m \u001b[0;34m**\u001b[0m\u001b[0mkwargs\u001b[0m\u001b[0;34m\u001b[0m\u001b[0;34m\u001b[0m\u001b[0m\n\u001b[1;32m    214\u001b[0m     )\n",
            "\u001b[0;32m/usr/local/lib/python3.10/dist-packages/keras/utils/traceback_utils.py\u001b[0m in \u001b[0;36merror_handler\u001b[0;34m(*args, **kwargs)\u001b[0m\n\u001b[1;32m     68\u001b[0m             \u001b[0;31m# To get the full stack trace, call:\u001b[0m\u001b[0;34m\u001b[0m\u001b[0;34m\u001b[0m\u001b[0m\n\u001b[1;32m     69\u001b[0m             \u001b[0;31m# `tf.debugging.disable_traceback_filtering()`\u001b[0m\u001b[0;34m\u001b[0m\u001b[0;34m\u001b[0m\u001b[0m\n\u001b[0;32m---> 70\u001b[0;31m             \u001b[0;32mraise\u001b[0m \u001b[0me\u001b[0m\u001b[0;34m.\u001b[0m\u001b[0mwith_traceback\u001b[0m\u001b[0;34m(\u001b[0m\u001b[0mfiltered_tb\u001b[0m\u001b[0;34m)\u001b[0m \u001b[0;32mfrom\u001b[0m \u001b[0;32mNone\u001b[0m\u001b[0;34m\u001b[0m\u001b[0;34m\u001b[0m\u001b[0m\n\u001b[0m\u001b[1;32m     71\u001b[0m         \u001b[0;32mfinally\u001b[0m\u001b[0;34m:\u001b[0m\u001b[0;34m\u001b[0m\u001b[0;34m\u001b[0m\u001b[0m\n\u001b[1;32m     72\u001b[0m             \u001b[0;32mdel\u001b[0m \u001b[0mfiltered_tb\u001b[0m\u001b[0;34m\u001b[0m\u001b[0;34m\u001b[0m\u001b[0m\n",
            "\u001b[0;32m/usr/local/lib/python3.10/dist-packages/keras/saving/legacy/save.py\u001b[0m in \u001b[0;36mload_model\u001b[0;34m(filepath, custom_objects, compile, options)\u001b[0m\n\u001b[1;32m    228\u001b[0m                     \u001b[0;32mif\u001b[0m \u001b[0misinstance\u001b[0m\u001b[0;34m(\u001b[0m\u001b[0mfilepath_str\u001b[0m\u001b[0;34m,\u001b[0m \u001b[0mstr\u001b[0m\u001b[0;34m)\u001b[0m\u001b[0;34m:\u001b[0m\u001b[0;34m\u001b[0m\u001b[0;34m\u001b[0m\u001b[0m\n\u001b[1;32m    229\u001b[0m                         \u001b[0;32mif\u001b[0m \u001b[0;32mnot\u001b[0m \u001b[0mtf\u001b[0m\u001b[0;34m.\u001b[0m\u001b[0mio\u001b[0m\u001b[0;34m.\u001b[0m\u001b[0mgfile\u001b[0m\u001b[0;34m.\u001b[0m\u001b[0mexists\u001b[0m\u001b[0;34m(\u001b[0m\u001b[0mfilepath_str\u001b[0m\u001b[0;34m)\u001b[0m\u001b[0;34m:\u001b[0m\u001b[0;34m\u001b[0m\u001b[0;34m\u001b[0m\u001b[0m\n\u001b[0;32m--> 230\u001b[0;31m                             raise IOError(\n\u001b[0m\u001b[1;32m    231\u001b[0m                                 \u001b[0;34mf\"No file or directory found at {filepath_str}\"\u001b[0m\u001b[0;34m\u001b[0m\u001b[0;34m\u001b[0m\u001b[0m\n\u001b[1;32m    232\u001b[0m                             )\n",
            "\u001b[0;31mOSError\u001b[0m: No file or directory found at classifier_face.h5"
          ]
        }
      ]
    },
    {
      "cell_type": "code",
      "source": [
        "# Save the model architecture to JSON file\n",
        "model_json = classifier.to_json()\n",
        "with open('/content/drive/MyDrive/Project/classifier_face_last_version.json', 'w') as json_file:\n",
        "    json_file.write(model_json)\n",
        "\n",
        "# Save the model weights to HDF5 file\n",
        "classifier.save_weights('/content/drive/MyDrive/Project/classifier_face_weights_last_version.h5')"
      ],
      "metadata": {
        "id": "IrmfM7DBZAgT"
      },
      "execution_count": null,
      "outputs": []
    }
  ]
}